{
 "cells": [
  {
   "cell_type": "code",
   "execution_count": 1,
   "metadata": {},
   "outputs": [
    {
     "name": "stdout",
     "output_type": "stream",
     "text": [
      "This is the covid database showcasingthe percentage of \u001b[0m \u001b[31mpeople vaccinated\u001b[0m, \u001b[35mfully vaccinated\u001b[0m and\u001b[34m boostered\u001b[0m. \n",
      "\n",
      "Additionally, the \u001b[32mhuman development index\u001b[0m and\u001b[36m total deaths per million\u001b[0m inhabitants has been shown \n",
      " \n"
     ]
    }
   ],
   "source": [
    "from colorama import Fore\n",
    "from colorama import Style\n",
    "\n",
    "print(f'This is the covid database showcasingthe percentage of {Style.RESET_ALL} {Fore.RED}people vaccinated{Style.RESET_ALL}, {Fore.MAGENTA}fully vaccinated{Style.RESET_ALL} and{Fore.BLUE} boostered{Style.RESET_ALL}. \\n')\n",
    "print(f'Additionally, the {Fore.GREEN}human development index{Style.RESET_ALL} and{Fore.CYAN} total deaths per million{Style.RESET_ALL} inhabitants has been shown \\n ')\n"
   ]
  }
 ],
 "metadata": {
  "interpreter": {
   "hash": "23fe34dfc626fa0da7d5353749d256d594cc1b00980c001dfbefa2a8e11868b1"
  },
  "kernelspec": {
   "display_name": "Python 3.10.2 64-bit",
   "language": "python",
   "name": "python3"
  },
  "language_info": {
   "codemirror_mode": {
    "name": "ipython",
    "version": 3
   },
   "file_extension": ".py",
   "mimetype": "text/x-python",
   "name": "python",
   "nbconvert_exporter": "python",
   "pygments_lexer": "ipython3",
   "version": "3.10.2"
  },
  "orig_nbformat": 4
 },
 "nbformat": 4,
 "nbformat_minor": 2
}
