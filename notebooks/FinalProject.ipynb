{
  "cells": [
    {
      "cell_type": "code",
      "execution_count": 1,
      "metadata": {
        "id": "_TcjywgEqIs0"
      },
      "outputs": [
        {
          "data": {
            "text/html": [
              "<div>\n",
              "<style scoped>\n",
              "    .dataframe tbody tr th:only-of-type {\n",
              "        vertical-align: middle;\n",
              "    }\n",
              "\n",
              "    .dataframe tbody tr th {\n",
              "        vertical-align: top;\n",
              "    }\n",
              "\n",
              "    .dataframe thead th {\n",
              "        text-align: right;\n",
              "    }\n",
              "</style>\n",
              "<table border=\"1\" class=\"dataframe\">\n",
              "  <thead>\n",
              "    <tr style=\"text-align: right;\">\n",
              "      <th></th>\n",
              "      <th>people_fully_vaccinated</th>\n",
              "      <th>people_vaccinated</th>\n",
              "      <th>total_boosters</th>\n",
              "      <th>human_development_index</th>\n",
              "    </tr>\n",
              "  </thead>\n",
              "  <tbody>\n",
              "    <tr>\n",
              "      <th>2058</th>\n",
              "      <td>8.986250e+05</td>\n",
              "      <td>1.025180e+06</td>\n",
              "      <td>2.799000e+03</td>\n",
              "      <td>0.795</td>\n",
              "    </tr>\n",
              "    <tr>\n",
              "      <th>2061</th>\n",
              "      <td>9.048580e+05</td>\n",
              "      <td>1.031588e+06</td>\n",
              "      <td>8.230000e+03</td>\n",
              "      <td>0.795</td>\n",
              "    </tr>\n",
              "    <tr>\n",
              "      <th>2062</th>\n",
              "      <td>9.058760e+05</td>\n",
              "      <td>1.032457e+06</td>\n",
              "      <td>8.815000e+03</td>\n",
              "      <td>0.795</td>\n",
              "    </tr>\n",
              "    <tr>\n",
              "      <th>2064</th>\n",
              "      <td>9.108450e+05</td>\n",
              "      <td>1.037546e+06</td>\n",
              "      <td>1.496800e+04</td>\n",
              "      <td>0.795</td>\n",
              "    </tr>\n",
              "    <tr>\n",
              "      <th>2065</th>\n",
              "      <td>9.135240e+05</td>\n",
              "      <td>1.040015e+06</td>\n",
              "      <td>1.843400e+04</td>\n",
              "      <td>0.795</td>\n",
              "    </tr>\n",
              "    <tr>\n",
              "      <th>...</th>\n",
              "      <td>...</td>\n",
              "      <td>...</td>\n",
              "      <td>...</td>\n",
              "      <td>...</td>\n",
              "    </tr>\n",
              "    <tr>\n",
              "      <th>158181</th>\n",
              "      <td>4.188346e+09</td>\n",
              "      <td>4.827052e+09</td>\n",
              "      <td>9.999943e+08</td>\n",
              "      <td>0.737</td>\n",
              "    </tr>\n",
              "    <tr>\n",
              "      <th>158182</th>\n",
              "      <td>4.196366e+09</td>\n",
              "      <td>4.832650e+09</td>\n",
              "      <td>1.005542e+09</td>\n",
              "      <td>0.737</td>\n",
              "    </tr>\n",
              "    <tr>\n",
              "      <th>158183</th>\n",
              "      <td>4.202302e+09</td>\n",
              "      <td>4.835874e+09</td>\n",
              "      <td>1.009942e+09</td>\n",
              "      <td>0.737</td>\n",
              "    </tr>\n",
              "    <tr>\n",
              "      <th>158184</th>\n",
              "      <td>4.206855e+09</td>\n",
              "      <td>4.839807e+09</td>\n",
              "      <td>1.014235e+09</td>\n",
              "      <td>0.737</td>\n",
              "    </tr>\n",
              "    <tr>\n",
              "      <th>158185</th>\n",
              "      <td>4.209126e+09</td>\n",
              "      <td>4.843951e+09</td>\n",
              "      <td>1.024088e+09</td>\n",
              "      <td>0.737</td>\n",
              "    </tr>\n",
              "  </tbody>\n",
              "</table>\n",
              "<p>11035 rows × 4 columns</p>\n",
              "</div>"
            ],
            "text/plain": [
              "        people_fully_vaccinated  people_vaccinated  total_boosters  \\\n",
              "2058               8.986250e+05       1.025180e+06    2.799000e+03   \n",
              "2061               9.048580e+05       1.031588e+06    8.230000e+03   \n",
              "2062               9.058760e+05       1.032457e+06    8.815000e+03   \n",
              "2064               9.108450e+05       1.037546e+06    1.496800e+04   \n",
              "2065               9.135240e+05       1.040015e+06    1.843400e+04   \n",
              "...                         ...                ...             ...   \n",
              "158181             4.188346e+09       4.827052e+09    9.999943e+08   \n",
              "158182             4.196366e+09       4.832650e+09    1.005542e+09   \n",
              "158183             4.202302e+09       4.835874e+09    1.009942e+09   \n",
              "158184             4.206855e+09       4.839807e+09    1.014235e+09   \n",
              "158185             4.209126e+09       4.843951e+09    1.024088e+09   \n",
              "\n",
              "        human_development_index  \n",
              "2058                      0.795  \n",
              "2061                      0.795  \n",
              "2062                      0.795  \n",
              "2064                      0.795  \n",
              "2065                      0.795  \n",
              "...                         ...  \n",
              "158181                    0.737  \n",
              "158182                    0.737  \n",
              "158183                    0.737  \n",
              "158184                    0.737  \n",
              "158185                    0.737  \n",
              "\n",
              "[11035 rows x 4 columns]"
            ]
          },
          "execution_count": 1,
          "metadata": {},
          "output_type": "execute_result"
        }
      ],
      "source": [
        "import altair as alt\n",
        "import ipywidgets as widgets\n",
        "import pandas as pd\n",
        "from ipywidgets import interact\n",
        "import matplotlib.pyplot as plt\n",
        "\n",
        "covid = pd.read_csv(\"https://covid.ourworldindata.org/data/owid-covid-data.csv\", parse_dates=['date'])\n",
        "covid.dropna(subset = ['people_fully_vaccinated', 'people_vaccinated', 'total_boosters','human_development_index'], inplace=True)\n",
        "covid.loc[:, ['people_fully_vaccinated', 'people_vaccinated', 'total_boosters','human_development_index']]\n",
        "\n",
        "\n",
        "#Does the the human development index influence the amount of vaccinations the population takes\n",
        "#Does the amount of vaccinations taken really improve less the crisis (less deaths/cases)\n",
        "#https://github.com/owid/covid-19-data/blob/master/public/data/README.md\n"
      ]
    },
    {
      "cell_type": "code",
      "execution_count": 2,
      "metadata": {},
      "outputs": [
        {
          "data": {
            "image/png": "[encoded data removed]",
            "text/plain": [
              "<Figure size 432x288 with 1 Axes>"
            ]
          },
          "metadata": {
            "needs_background": "light"
          },
          "output_type": "display_data"
        },
        {
          "data": {
            "image/png": "[encoded data removed]",
            "text/plain": [
              "<Figure size 432x288 with 1 Axes>"
            ]
          },
          "metadata": {
            "needs_background": "light"
          },
          "output_type": "display_data"
        },
        {
          "data": {
            "image/png": "[encoded data removed]",
            "text/plain": [
              "<Figure size 432x288 with 1 Axes>"
            ]
          },
          "metadata": {
            "needs_background": "light"
          },
          "output_type": "display_data"
        }
      ],
      "source": [
        "a = 'human_development_index'\n",
        "b = 'people_vaccinated'\n",
        "plot_b= plt.scatter(covid.human_development_index,covid.people_vaccinated)\n",
        "plt.title('vaccinated people per human development index')\n",
        "plt.xlabel(a)\n",
        "plt.ylabel(b)\n",
        "plt.show()\n",
        "\n",
        "x = 'human_development_index'\n",
        "y = 'people_fully_vaccinated'\n",
        "plot_a= plt.scatter(covid.human_development_index,covid.people_fully_vaccinated)\n",
        "plt.title('fully vaccinated people per human development index')\n",
        "plt.xlabel(x)\n",
        "plt.ylabel(y)\n",
        "plt.show()\n",
        "\n",
        "p = 'human_development_index'\n",
        "q = 'total_boosters'\n",
        "plot_b= plt.scatter(covid.human_development_index,covid.total_boosters)\n",
        "plt.title('total boosters per human development index')\n",
        "plt.xlabel(p)\n",
        "plt.ylabel(q)\n",
        "plt.show()\n"
      ]
    },
    {
      "cell_type": "code",
      "execution_count": null,
      "metadata": {},
      "outputs": [],
      "source": []
    },
    {
      "cell_type": "code",
      "execution_count": null,
      "metadata": {},
      "outputs": [],
      "source": []
    }
  ],
  "metadata": {
    "colab": {
      "name": "FinalProject.ipynb",
      "provenance": []
    },
    "kernelspec": {
      "display_name": "Python 3",
      "name": "python3"
    },
    "language_info": {
      "codemirror_mode": {
        "name": "ipython",
        "version": 3
      },
      "file_extension": ".py",
      "mimetype": "text/x-python",
      "name": "python",
      "nbconvert_exporter": "python",
      "pygments_lexer": "ipython3",
      "version": "3.10.2"
    }
  },
  "nbformat": 4,
  "nbformat_minor": 0
}
