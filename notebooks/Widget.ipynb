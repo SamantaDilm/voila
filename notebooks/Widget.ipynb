{
 "cells": [
  {
   "cell_type": "code",
   "execution_count": 8,
   "metadata": {},
   "outputs": [],
   "source": [
    "import ipywidgets as widgets\n",
    "import pandas as pd\n",
    "import numpy as np\n",
    "from ipywidgets import interact\n",
    "import matplotlib.pyplot as plt\n",
    "\n",
    "\n",
    "print(f'Finally, and sadly, this is the final project. \\nFor this project, my research question is: \"Does the human development index(HDI) have a relation with the amount of vaccinations taken?\"')\n",
    "print(f'Thereafter, I wonder:\" Does the amount of vaccinations make sense if you take the total amount of deaths or stringency index per country into account?\"\\n')\n",
    "print(f'To answer this research question, the covid database containing the percentage of  people vaccinated, fully vaccinated and boostered has been shown.')\n",
    "print(f'Additionally, the human development index, stringency index and total deaths per million inhabitants has been shown below: ')\n",
    "\n"
   ]
  },
  {
   "cell_type": "code",
   "execution_count": 9,
   "metadata": {},
   "outputs": [],
   "source": [
    "covid = pd.read_csv(\"https://covid.ourworldindata.org/data/owid-covid-data.csv\", parse_dates=['date'])\n",
    "\n",
    "def create_plot( yaxis):\n",
    "    plt.scatter(covid.human_development_index,y = covid[yaxis], color= 'plum')\n",
    "    plt.xlabel(\"human_development_index\")\n",
    "    plt.ylabel(yaxis)\n",
    "    plt.show()"
   ]
  },
  {
   "cell_type": "code",
   "execution_count": 10,
   "metadata": {},
   "outputs": [
    {
     "data": {
      "application/vnd.jupyter.widget-view+json": {
       "model_id": "3aa8719f0fc9406e9b7143a71b12245c",
       "version_major": 2,
       "version_minor": 0
      },
      "text/plain": [
       "interactive(children=(Dropdown(description='yaxis', options=('people_vaccinated_per_hundred', 'people_fully_va…"
      ]
     },
     "metadata": {},
     "output_type": "display_data"
    },
    {
     "data": {
      "text/plain": [
       "<function __main__.create_plot(yaxis)>"
      ]
     },
     "execution_count": 10,
     "metadata": {},
     "output_type": "execute_result"
    }
   ],
   "source": [
    "# print('With this widget all research questions can be answered. \\nJust pick the y-value and see for youself what influence the HDI has on the y-value.' )\n",
    "widgets.interact(create_plot, yaxis=['people_vaccinated_per_hundred', 'people_fully_vaccinated_per_hundred', 'total_boosters_per_hundred', 'total_deaths_per_million', 'stringency_index'])"
   ]
  }
 ],
 "metadata": {
  "interpreter": {
   "hash": "23fe34dfc626fa0da7d5353749d256d594cc1b00980c001dfbefa2a8e11868b1"
  },
  "kernelspec": {
   "display_name": "Python 3.10.2 64-bit",
   "language": "python",
   "name": "python3"
  },
  "language_info": {
   "codemirror_mode": {
    "name": "ipython",
    "version": 3
   },
   "file_extension": ".py",
   "mimetype": "text/x-python",
   "name": "python",
   "nbconvert_exporter": "python",
   "pygments_lexer": "ipython3",
   "version": "3.10.2"
  },
  "orig_nbformat": 4
 },
 "nbformat": 4,
 "nbformat_minor": 2
}
