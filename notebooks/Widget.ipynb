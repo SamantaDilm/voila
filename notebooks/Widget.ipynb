{
 "cells": [
  {
   "cell_type": "code",
   "execution_count": 8,
   "metadata": {},
   "outputs": [],
   "source": [
    "import ipywidgets as widgets\n",
    "import pandas as pd\n",
    "import numpy as np\n",
    "from ipywidgets import interact\n",
    "import matplotlib.pyplot as plt\n",
    "\n",
    "\n",
    "print(f'Finally, and sadly, this is the final project. \\nFor this project, my research question is: \"Does the human development index(HDI) have a relation with the amount of vaccinations taken?\"')\n",
    "print(f'Thereafter, I wonder:\" Does the amount of vaccinations make sense if you take the total amount of deaths or stringency index per country into account?\"\\n')\n",
    "print(f'To answer this research question, the covid database containing the percentage of  people vaccinated, fully vaccinated and boostered have been shown.')\n",
    "print(f'Additionally, the human development index, stringency index and total deaths per million inhabitants have been shown below: ')\n",
    "\n"
   ]
  },
  {
   "cell_type": "code",
   "execution_count": 9,
   "metadata": {},
   "outputs": [],
   "source": [
    "covid = pd.read_csv(\"https://covid.ourworldindata.org/data/owid-covid-data.csv\", parse_dates=['date'])\n",
    "\n",
    "def create_plot( yaxis):\n",
    "    plt.scatter(covid.human_development_index,y = covid[yaxis], color= 'plum')\n",
    "    plt.xlabel(\"human_development_index\")\n",
    "    plt.ylabel(yaxis)\n",
    "    plt.show()"
   ]
  },
  {
   "cell_type": "code",
   "execution_count": null,
   "metadata": {},
   "outputs": [],
   "source": [
    "print('With this widget all research questions can be answered. \\nJust pick the y-value and see for youself what influence the HDI has on the y-value.' )\n"
   ]
  },
  {
   "cell_type": "code",
   "execution_count": null,
   "metadata": {},
   "outputs": [],
   "source": [
    "widgets.interact(create_plot, yaxis=['people_vaccinated_per_hundred', 'people_fully_vaccinated_per_hundred', 'total_boosters_per_hundred', 'total_deaths_per_million', 'stringency_index'])"
   ]
  },
  {
   "cell_type": "code",
   "execution_count": 13,
   "metadata": {},
   "outputs": [
    {
     "name": "stdout",
     "output_type": "stream",
     "text": [
      "Conclusion:\n",
      "After analyzing these figures, we can conclude that the human development index does have \n",
      "a relation with the amount of vaccinations taken. Especially for the booster vaccine, a clear relation is visible. \n",
      "The amount of deaths each country had during the crisis, also had a slight influence on the amount of vaccines taken. \n",
      "some similarities betweeen the graph of the deaths and vaccines were visible. However, stringency had very little effect\n",
      "on the amount of vaccines taken. Almost every country, no mattter the HDI, had very strict regulations during the corona crisis \n"
     ]
    }
   ],
   "source": [
    "print('Conclusion:')\n",
    "print('After analyzing these figures, we can conclude that the human development index does have \\na relation with the amount of vaccinations taken. Especially for the booster vaccine, a clear relation is visible. \\nThe amount of deaths each country had during the crisis, also had a slight influence on the amount of vaccines taken. \\nsome similarities betweeen the graph of the deaths and vaccines were visible. However, stringency had very little effect\\non the amount of vaccines taken. Almost every country, no mattter the HDI, had very strict regulations during the corona crisis ')"
   ]
  }
 ],
 "metadata": {
  "interpreter": {
   "hash": "23fe34dfc626fa0da7d5353749d256d594cc1b00980c001dfbefa2a8e11868b1"
  },
  "kernelspec": {
   "display_name": "Python 3.10.2 64-bit",
   "language": "python",
   "name": "python3"
  },
  "language_info": {
   "codemirror_mode": {
    "name": "ipython",
    "version": 3
   },
   "file_extension": ".py",
   "mimetype": "text/x-python",
   "name": "python",
   "nbconvert_exporter": "python",
   "pygments_lexer": "ipython3",
   "version": "3.10.2"
  },
  "orig_nbformat": 4
 },
 "nbformat": 4,
 "nbformat_minor": 2
}
